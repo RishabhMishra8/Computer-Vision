{
 "cells": [
  {
   "cell_type": "code",
   "execution_count": null,
   "id": "4c97b5bd-b531-4b0a-b3da-2d21e2d4e8a9",
   "metadata": {},
   "outputs": [],
   "source": [
    "from tensorflow.keras.layers import Conv2D, MaxPool2D, Flatten, Dense,BatchNormalization,GlobalAveragePooling2D\n",
    "from tensorflow.keras.applications.resnet50 import preprocess_input,decode_predictions\n",
    "from tensorflow.keras.preprocessing.image import ImageDataGenerator,load_img\n",
    "from tensorflow.keras.applications.resnet50 import ResNet50\n",
    "from tensorflow.keras.preprocessing import image\n",
    "from tensorflow.keras.models import Sequential\n",
    "from tensorflow.keras.models import Model\n",
    "from keras.models import load_model\n",
    "import matplotlib.pyplot as plt\n",
    "import numpy as np\n",
    "import cv2 as cv"
   ]
  },
  {
   "cell_type": "code",
   "execution_count": null,
   "id": "67d816ea-3c87-43cf-ba9a-061fb5b1d260",
   "metadata": {},
   "outputs": [],
   "source": [
    "import splitfolders"
   ]
  },
  {
   "cell_type": "code",
   "execution_count": null,
   "id": "2ceb3e27-ffb7-464c-be42-45c729b8d8f6",
   "metadata": {},
   "outputs": [],
   "source": [
    "input_folder = r\"C:\\Users\\risha\\OneDrive\\Desktop\\Bottle Dataset\\Input data\"\n",
    "output = r\"C:\\Users\\risha\\OneDrive\\Desktop\\Bottle Dataset\\Processed data\"\n",
    "splitfolders.ratio(input_folder, output, seed=42, ratio=(.6,.2,.2))"
   ]
  },
  {
   "cell_type": "code",
   "execution_count": null,
   "id": "d7954fcb-6156-4f8f-b80f-7765207bac57",
   "metadata": {},
   "outputs": [],
   "source": [
    "img_height, img_width = (224,224)\n",
    "batch_size = 20\n",
    "\n",
    "train_data_dir = r\"C:\\Users\\risha\\OneDrive\\Desktop\\Bottle Dataset\\Processed data\\train\"\n",
    "valid_data_dir = r\"C:\\Users\\risha\\OneDrive\\Desktop\\Bottle Dataset\\Processed data\\val\"\n",
    "test_data_dir = r\"C:\\Users\\risha\\OneDrive\\Desktop\\Bottle Dataset\\Processed data\\test\""
   ]
  },
  {
   "cell_type": "code",
   "execution_count": null,
   "id": "54606c0e-dea7-4993-8ae1-148a61a03808",
   "metadata": {},
   "outputs": [],
   "source": [
    "train_datagen = ImageDataGenerator(preprocessing_function=preprocess_input,\n",
    "                                  shear_range=0.2,\n",
    "                                  zoom_range=0.2,\n",
    "                                  horizontal_flip=True,\n",
    "                                  validation_split=0.4)\n",
    "train_generator = train_datagen.flow_from_directory(\n",
    "    train_data_dir,\n",
    "    target_size=(img_height,img_width),\n",
    "    batch_size=batch_size,\n",
    "    class_mode='categorical',\n",
    "    subset='training'\n",
    ")\n",
    "\n",
    "valid_generator = train_datagen.flow_from_directory(\n",
    "    valid_data_dir,\n",
    "    target_size=(img_height,img_width),\n",
    "    batch_size=batch_size,\n",
    "    class_mode='categorical',\n",
    "    subset='validation'\n",
    ")"
   ]
  },
  {
   "cell_type": "code",
   "execution_count": null,
   "id": "96d864d8-3ea4-480f-ae1a-768458511c1a",
   "metadata": {},
   "outputs": [],
   "source": [
    "test_generator = train_datagen.flow_from_directory(\n",
    "    test_data_dir,\n",
    "    target_size=(img_height,img_width),\n",
    "    batch_size=1,\n",
    "    class_mode='categorical',\n",
    "    subset='validation'\n",
    ")"
   ]
  },
  {
   "cell_type": "code",
   "execution_count": null,
   "id": "61aa3186-8b37-436d-bcc7-dfba1c55d895",
   "metadata": {},
   "outputs": [],
   "source": [
    "x,y = next(test_generator)\n",
    "x.shape"
   ]
  },
  {
   "cell_type": "code",
   "execution_count": null,
   "id": "d112706f-5fc5-4ac1-a527-829341f7812e",
   "metadata": {},
   "outputs": [],
   "source": [
    "base_model = ResNet50(include_top = False, weights='imagenet')\n",
    "x = base_model.output\n",
    "x = GlobalAveragePooling2D()(x)\n",
    "x = Dense(1024, activation='relu')(x)\n",
    "predictions = Dense(train_generator.num_classes,activation='softmax')(x)\n",
    "model = Model(inputs=base_model.input,outputs=predictions)\n",
    "\n",
    "for layer in base_model.layers:\n",
    "    layer.trainable = False\n",
    "\n",
    "model.compile(optimizer='adam', loss='categorical_crossentropy', metrics = ['accuracy'])\n",
    "model.fit(train_generator, epochs = 20)"
   ]
  },
  {
   "cell_type": "code",
   "execution_count": null,
   "id": "e6d8e19d-2e9a-460f-b694-f1f8e9343c42",
   "metadata": {},
   "outputs": [],
   "source": [
    "model.save(r\"C:\\Users\\risha\\OneDrive\\Desktop\\Bottle Dataset\\ResNet_bottle.h5\")"
   ]
  },
  {
   "cell_type": "code",
   "execution_count": null,
   "id": "f8dc7fc2-b7b2-4c99-bf2c-a0dd6c1a2f13",
   "metadata": {},
   "outputs": [],
   "source": [
    "test_loss,test_acc = model.evaluate(test_generator, verbose=2)\n",
    "print('\\ntest accuracy:', test_acc)"
   ]
  },
  {
   "cell_type": "code",
   "execution_count": null,
   "id": "af598a90-ce5a-4a3c-a77c-1c65fc22ae61",
   "metadata": {},
   "outputs": [],
   "source": [
    "import pandas as pd\n",
    "import seaborn as sn\n",
    "import tensorflow as tf\n",
    "\n",
    "\n",
    "filenames = test_generator.filenames\n",
    "nb_samples = len(test_generator)\n",
    "y_prob=[]\n",
    "y_act=[]\n",
    "test_generator.reset()\n",
    "for i in range(nb_samples):\n",
    "    X_test, Y_test = test_generator[i]\n",
    "    y_prob.append(model.predict(X_test))\n",
    "    y_act.append(Y_test)\n",
    "\n",
    "predicted_class = [list(train_generator.class_indices.keys())[i.argmax()] for i in y_prob]\n",
    "actual_class = [list(train_generator.class_indices.keys())[i.argmax()] for i in y_act]\n",
    "\n",
    "out_df = pd.DataFrame(np.vstack([predicted_class,actual_class]).T,columns=['predicted_class','actual_class'])\n",
    "confusion_matrix = pd.crosstab(out_df['actual_class'],out_df['predicted_class'],rownames=['Actual'], colnames=['Predicted'])\n",
    "\n",
    "sn.heatmap(confusion_matrix,cmap='Blues',annot=True,fmt='d')\n",
    "plt.show()\n",
    "print('test accuracy : {}'.format((np.diagonal(confusion_matrix).sum()/confusion_matrix.sum().sum()*100)))"
   ]
  },
  {
   "cell_type": "code",
   "execution_count": null,
   "id": "5a714be1-1c50-491f-a40a-0dccd94179fc",
   "metadata": {},
   "outputs": [],
   "source": [
    "from tensorflow.keras.layers import Conv2D, MaxPool2D, Flatten, Dense,BatchNormalization,GlobalAveragePooling2D\n",
    "from tensorflow.keras.applications.resnet50 import preprocess_input,decode_predictions\n",
    "from tensorflow.keras.preprocessing.image import ImageDataGenerator,load_img\n",
    "from tensorflow.keras.applications.resnet50 import ResNet50\n",
    "from tensorflow.keras.preprocessing import image\n",
    "from tensorflow.keras.models import Sequential\n",
    "from tensorflow.keras.models import Model\n",
    "from keras.models import load_model\n",
    "import matplotlib.pyplot as plt\n",
    "import numpy as np\n",
    "import cv2 as cv\n",
    "model = load_model(r\"C:\\Users\\risha\\OneDrive\\Desktop\\Bottle Dataset\\ResNet_bottle.h5\")\n",
    "\n",
    "class_labels = ['CocaCola','Bisleri','Appefizz', 'Fevicol','amulcool','mountain dew']\n",
    "\n",
    "# Function to preprocess and predict the class of an image\n",
    "def predict_image(frame):\n",
    "    img_array = cv.resize(frame, (img_height, img_width))\n",
    "    img_array = image.img_to_array(img_array)\n",
    "    img_array = np.expand_dims(img_array, axis=0)\n",
    "    img_array = preprocess_input(img_array)\n",
    "\n",
    "    predictions = model.predict(img_array)\n",
    "    max_prob = np.max(predictions)\n",
    "    print(max_prob)\n",
    "    predicted_class = class_labels[np.argmax(predictions)]\n",
    "\n",
    "    if max_prob > 0.7:\n",
    "        return predicted_class\n",
    "    else:\n",
    "        return None\n",
    "    \n",
    "\n",
    "# Initialize video capture (0 for the default webcam, or provide a video file path)\n",
    "cap = cv.VideoCapture(0)\n",
    "\n",
    "while True:\n",
    "    ret, frame = cap.read()\n",
    "    if not ret:\n",
    "        break\n",
    "\n",
    "    # Predict the class of the frame\n",
    "    predicted_class = predict_image(frame)\n",
    "\n",
    "    # Display the prediction on the frame\n",
    "    cv.putText(frame, predicted_class, (10, 30), cv.FONT_HERSHEY_SIMPLEX, 1, (0, 255, 0), 2, cv.LINE_AA)\n",
    "    cv.imshow('Image Recognition', frame)\n",
    "\n",
    "    if cv.waitKey(1) & 0xFF == ord('q'):\n",
    "        break\n",
    "\n",
    "cap.release()\n",
    "cv.destroyAllWindows()\n"
   ]
  },
  {
   "cell_type": "code",
   "execution_count": null,
   "id": "0074f705-bfa4-43ed-8df7-214d5562e964",
   "metadata": {},
   "outputs": [],
   "source": []
  },
  {
   "cell_type": "code",
   "execution_count": null,
   "id": "62c9cc8f-59c8-41ef-9892-3eacf9810e32",
   "metadata": {},
   "outputs": [],
   "source": []
  },
  {
   "cell_type": "code",
   "execution_count": null,
   "id": "b947768a-b8da-4528-8e2e-04a5b6bcbe2e",
   "metadata": {},
   "outputs": [],
   "source": []
  },
  {
   "cell_type": "code",
   "execution_count": null,
   "id": "94af11be-9ee6-4704-a036-9174167370d5",
   "metadata": {},
   "outputs": [],
   "source": []
  }
 ],
 "metadata": {
  "kernelspec": {
   "display_name": "Python 3 (ipykernel)",
   "language": "python",
   "name": "python3"
  },
  "language_info": {
   "codemirror_mode": {
    "name": "ipython",
    "version": 3
   },
   "file_extension": ".py",
   "mimetype": "text/x-python",
   "name": "python",
   "nbconvert_exporter": "python",
   "pygments_lexer": "ipython3",
   "version": "3.11.7"
  }
 },
 "nbformat": 4,
 "nbformat_minor": 5
}
